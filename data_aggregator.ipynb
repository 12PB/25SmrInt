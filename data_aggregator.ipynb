{
 "cells": [
  {
   "cell_type": "code",
   "execution_count": 3,
   "metadata": {},
   "outputs": [],
   "source": [
    "import pandas as pd "
   ]
  },
  {
   "cell_type": "code",
   "execution_count": 5,
   "metadata": {},
   "outputs": [],
   "source": [
    "# Import meta deta\n",
    "meta_df = pd.read_csv(\"output/albania_metadata.csv\")"
   ]
  },
  {
   "cell_type": "code",
   "execution_count": 6,
   "metadata": {},
   "outputs": [
    {
     "data": {
      "text/plain": [
       "Index(['variable_name', 'variable_description', 'module_name',\n",
       "       'module_description', 'data_type', 'unique_id'],\n",
       "      dtype='object')"
      ]
     },
     "execution_count": 6,
     "metadata": {},
     "output_type": "execute_result"
    }
   ],
   "source": [
    "meta_df.columns"
   ]
  },
  {
   "cell_type": "code",
   "execution_count": 7,
   "metadata": {},
   "outputs": [
    {
     "data": {
      "text/plain": [
       "unique_id\n",
       "id        472\n",
       "psu-hh    270\n",
       "hhid       76\n",
       "hh_key      2\n",
       "Name: count, dtype: int64"
      ]
     },
     "execution_count": 7,
     "metadata": {},
     "output_type": "execute_result"
    }
   ],
   "source": [
    "meta_df['unique_id'].value_counts()"
   ]
  },
  {
   "cell_type": "code",
   "execution_count": 8,
   "metadata": {},
   "outputs": [
    {
     "name": "stderr",
     "output_type": "stream",
     "text": [
      "C:\\Users\\PB\\AppData\\Local\\Temp\\ipykernel_8960\\819969435.py:3: FutureWarning: When grouping with a length-1 list-like, you will need to pass a length-1 tuple to get_group in a future version of pandas. Pass `(name,)` instead of `name` to silence this warning.\n",
      "  ind_df = grouped.get_group((\"id\"))\n",
      "C:\\Users\\PB\\AppData\\Local\\Temp\\ipykernel_8960\\819969435.py:4: FutureWarning: When grouping with a length-1 list-like, you will need to pass a length-1 tuple to get_group in a future version of pandas. Pass `(name,)` instead of `name` to silence this warning.\n",
      "  h_df = grouped.get_group((\"hhid\"))\n",
      "C:\\Users\\PB\\AppData\\Local\\Temp\\ipykernel_8960\\819969435.py:5: FutureWarning: When grouping with a length-1 list-like, you will need to pass a length-1 tuple to get_group in a future version of pandas. Pass `(name,)` instead of `name` to silence this warning.\n",
      "  proxy_h_df = grouped.get_group((\"psu-hh\"))\n",
      "C:\\Users\\PB\\AppData\\Local\\Temp\\ipykernel_8960\\819969435.py:6: FutureWarning: When grouping with a length-1 list-like, you will need to pass a length-1 tuple to get_group in a future version of pandas. Pass `(name,)` instead of `name` to silence this warning.\n",
      "  map_df = grouped.get_group((\"hh_key\"))\n"
     ]
    }
   ],
   "source": [
    "#Split metadata into groups to combine to create household and individual datasets\n",
    "grouped = meta_df.groupby([\"unique_id\"])\n",
    "ind_df = grouped.get_group((\"id\"))\n",
    "h_df = grouped.get_group((\"hhid\"))\n",
    "proxy_h_df = grouped.get_group((\"psu-hh\"))\n",
    "map_df = grouped.get_group((\"hh_key\"))"
   ]
  },
  {
   "cell_type": "code",
   "execution_count": 9,
   "metadata": {},
   "outputs": [
    {
     "data": {
      "text/plain": [
       "module_name\n",
       "Modul_3_internet            24\n",
       "Modul_1A_householdroster    22\n",
       "poverty                     16\n",
       "Modul_1B_householdroster    14\n",
       "Name: count, dtype: int64"
      ]
     },
     "execution_count": 9,
     "metadata": {},
     "output_type": "execute_result"
    }
   ],
   "source": [
    "#Start with household data\n",
    "h_df['module_name'].value_counts()"
   ]
  },
  {
   "cell_type": "code",
   "execution_count": null,
   "metadata": {},
   "outputs": [],
   "source": []
  }
 ],
 "metadata": {
  "kernelspec": {
   "display_name": "Python 3",
   "language": "python",
   "name": "python3"
  },
  "language_info": {
   "codemirror_mode": {
    "name": "ipython",
    "version": 3
   },
   "file_extension": ".py",
   "mimetype": "text/x-python",
   "name": "python",
   "nbconvert_exporter": "python",
   "pygments_lexer": "ipython3",
   "version": "3.11.11"
  }
 },
 "nbformat": 4,
 "nbformat_minor": 2
}
