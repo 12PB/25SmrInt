{
 "cells": [
  {
   "cell_type": "code",
   "execution_count": 267,
   "metadata": {},
   "outputs": [],
   "source": [
    "import pandas as pd \n",
    "import matplotlib as plt"
   ]
  },
  {
   "cell_type": "code",
   "execution_count": 172,
   "metadata": {},
   "outputs": [],
   "source": [
    "# Import meta deta\n",
    "meta_df = pd.read_csv(\"output/albania_metadata.csv\")"
   ]
  },
  {
   "cell_type": "code",
   "execution_count": 173,
   "metadata": {},
   "outputs": [
    {
     "data": {
      "text/plain": [
       "Index(['variable_name', 'variable_description', 'module_name',\n",
       "       'module_description', 'data_type', 'unique_id'],\n",
       "      dtype='object')"
      ]
     },
     "execution_count": 173,
     "metadata": {},
     "output_type": "execute_result"
    }
   ],
   "source": [
    "meta_df.columns"
   ]
  },
  {
   "cell_type": "code",
   "execution_count": 174,
   "metadata": {},
   "outputs": [
    {
     "data": {
      "text/plain": [
       "unique_id\n",
       "id      472\n",
       "hhid    346\n",
       "Name: count, dtype: int64"
      ]
     },
     "execution_count": 174,
     "metadata": {},
     "output_type": "execute_result"
    }
   ],
   "source": [
    "meta_df['unique_id'].value_counts()"
   ]
  },
  {
   "cell_type": "code",
   "execution_count": 175,
   "metadata": {},
   "outputs": [
    {
     "name": "stderr",
     "output_type": "stream",
     "text": [
      "C:\\Users\\PB\\AppData\\Local\\Temp\\ipykernel_14432\\1015254879.py:3: FutureWarning: When grouping with a length-1 list-like, you will need to pass a length-1 tuple to get_group in a future version of pandas. Pass `(name,)` instead of `name` to silence this warning.\n",
      "  ind_df = grouped.get_group((\"id\"))\n",
      "C:\\Users\\PB\\AppData\\Local\\Temp\\ipykernel_14432\\1015254879.py:4: FutureWarning: When grouping with a length-1 list-like, you will need to pass a length-1 tuple to get_group in a future version of pandas. Pass `(name,)` instead of `name` to silence this warning.\n",
      "  h_df = grouped.get_group((\"hhid\"))\n"
     ]
    }
   ],
   "source": [
    "#Split metadata into groups to combine to create household and individual datasets\n",
    "grouped = meta_df.groupby([\"unique_id\"])\n",
    "ind_df = grouped.get_group((\"id\"))\n",
    "h_df = grouped.get_group((\"hhid\"))"
   ]
  },
  {
   "cell_type": "code",
   "execution_count": 176,
   "metadata": {},
   "outputs": [
    {
     "data": {
      "text/plain": [
       "['Modul_1A_householdroster',\n",
       " 'Modul_1B_householdroster',\n",
       " 'Modul_3_internet',\n",
       " 'Modul_5_Non-Farm_Enterprises',\n",
       " 'Modul_6D_Shocks_to_the_household',\n",
       " 'Modul_9B_Access_to_Health_Care',\n",
       " 'Modul_10_Fertility',\n",
       " 'Modul_12A_Purchases_past30_days',\n",
       " 'Modul_12B_Purchases_past6_months',\n",
       " 'Modul_12C_Purchases_past12_months',\n",
       " 'Modul_13A_Description_of_Dwelling',\n",
       " 'Modul_13B_Utilities',\n",
       " 'Modul_13C1_Household_Durables',\n",
       " 'Modul_13C2_Household_Durables',\n",
       " 'Modul_14_Social_Protection',\n",
       " 'Modul_15_Other_Income',\n",
       " 'Modul_17_Identification_of_Agriculture_Hh_Q1-2',\n",
       " 'Modul_17_Identification_of_Agriculture_Hh_Q3-9',\n",
       " 'Modul_17_Identification_of_Agriculture_Hh_Q10-11',\n",
       " 'poverty',\n",
       " 'Weight_lsms2012_retro']"
      ]
     },
     "execution_count": 176,
     "metadata": {},
     "output_type": "execute_result"
    }
   ],
   "source": [
    "#Start with household data\n",
    "house_mod_names = h_df['module_name'].unique().tolist()\n",
    "house_mod_names"
   ]
  },
  {
   "cell_type": "code",
   "execution_count": 223,
   "metadata": {},
   "outputs": [],
   "source": [
    "house_mod_data = {}\n",
    "house_mod_desc = []\n",
    "\n",
    "for module in house_mod_names:\n",
    "    data = pd.read_spss(f\"raw_data/{module}.sav\") # Extract raw data from .sav file\n",
    "\n",
    "    house_mod_desc.append({\"module_name\" : module, \"n_variables\" : data.shape[1], \"n_entries\" : data.shape[0]}) \n",
    "    house_mod_data[module] = data"
   ]
  },
  {
   "cell_type": "code",
   "execution_count": 213,
   "metadata": {},
   "outputs": [],
   "source": [
    "house_mod_data_copy = house_mod_data.copy()\n",
    "house_mod_desc_copy = house_mod_desc.copy()"
   ]
  },
  {
   "cell_type": "code",
   "execution_count": 221,
   "metadata": {},
   "outputs": [],
   "source": [
    "house_mod_data = house_mod_data_copy.copy()\n",
    "house_mod_desc = house_mod_desc_copy.copy()"
   ]
  },
  {
   "cell_type": "code",
   "execution_count": 224,
   "metadata": {},
   "outputs": [
    {
     "data": {
      "text/plain": [
       "True"
      ]
     },
     "execution_count": 224,
     "metadata": {},
     "output_type": "execute_result"
    }
   ],
   "source": [
    " # Sanity check that mapping for hhid to psu- hh is the same across data\n",
    "working_df = house_mod_data.get('Modul_1A_householdroster').copy()\n",
    "working_df['hhid2'] = working_df['hhid'].astype(str) + '_' + working_df['psu'].astype(str) + '_' + working_df['hh'].astype(str)\n",
    "ind0 = working_df['hhid2']\n",
    "\n",
    "working_df = house_mod_data.get('Modul_3_internet').copy()\n",
    "working_df['hhid2'] =  working_df['hhid'].astype(str) + '_' + working_df['psu'].astype(str) + '_' + working_df['hh'].astype(str)\n",
    "ind1 = working_df['hhid2']\n",
    "\n",
    "ind0.equals(ind1)\n"
   ]
  },
  {
   "cell_type": "code",
   "execution_count": 225,
   "metadata": {},
   "outputs": [],
   "source": [
    "\"\"\" \n",
    "'Modul_1B_householdroster' has issues with hhid, with 18664 invalid entries out of total 25335 entries.\n",
    "The approach taken is to form a master mapping between psu-hh to the hhid from the first module, which has been verified as having a consistent mapping.\n",
    "This master mapping will be used to map the hhid in modul-1b to the correct hhid entry using the given fully valid psu and hh columns in modul 1b\n",
    "\"\"\"\n",
    "#Creating master mapping dictionary from module 1a data\n",
    "working_df = house_mod_data.get('Modul_1A_householdroster').copy()\n",
    "working_df['proxy_hhid'] = working_df['psu'].astype(str) + '_' + working_df['hh'].astype(str)\n",
    "mapping_dict = dict(zip(working_df['proxy_hhid'], working_df['hhid'])) # Mapping function takes in proxy as input and outputs hhid \n",
    "\n",
    "#Amending module 1b using mapping dict\n",
    "working_df = house_mod_data.get('Modul_1B_householdroster')\n",
    "working_df['proxy_hhid'] = working_df['psu'].astype(str) + '_' + working_df['hh'].astype(str)\n",
    "working_df['hhid'] = working_df['proxy_hhid'].map(mapping_dict)\n",
    "working_df.drop(columns = [\"proxy_hhid\"],inplace = True) \n",
    "\n",
    "\"\"\"\n",
    "Additional error correction is required for Module 10, with the misnamed psu, hh columns\n",
    "\"\"\"\n",
    "working_df = house_mod_data.get('Modul_10_Fertility')\n",
    "working_df = working_df.rename(columns = {\"M0_Q00\":\"psu\",\"M0_Q01\":\"hh\"},inplace = True)"
   ]
  },
  {
   "cell_type": "code",
   "execution_count": null,
   "metadata": {},
   "outputs": [
    {
     "name": "stdout",
     "output_type": "stream",
     "text": [
      "Index(['idcode', 'hhid', 'm1a_q02', 'm1a_q03', 'm1a_q04', 'm1a_q05y',\n",
      "       'm1a_q05m', 'm1a_q06', 'm1a_q07', 'm1a_q08', 'm1a_q09', 'm1a_q10',\n",
      "       'm1a_q11', 'm1a_q12', 'm1a_q13', 'm1a_q14', 'm1a_q15', 'm1a_q16',\n",
      "       'm1a_q17', 'm1a_q18', 'm1a_q19', 'm1a_q20', 'm1a_q21', 'm1a_q22'],\n",
      "      dtype='object')\n",
      "Index(['idcode', 'M1B_SEX', 'M1B_AGE', 'M1B_Q01', 'M1B_Q02', 'M1B_Q4B',\n",
      "       'M1B_Q03', 'M1B_Q4A', 'M1B_Q5A', 'M1B_Q5B', 'M1B_Q5C', 'M1B_Q5D',\n",
      "       'M1B_Q5E', 'M1B_Q5F', 'M1B_Q5G', 'hhid'],\n",
      "      dtype='object')\n",
      "Index(['idcode', 'M3_SEX', 'M3A_Q5', 'M3_Q01', 'M3_Q02', 'M3_Q03', 'M3_Q04',\n",
      "       'M3_Q05', 'M3_Q6A', 'M3_Q6B', 'M3_Q6C', 'M3_Q6D', 'm3_q07_1',\n",
      "       'm3_q07_2', 'm3_q07_3', 'm3_q07_4', 'm3_q07_5', 'm3_q07_6', 'm3_q07_7',\n",
      "       'm3_q07_8', 'm3_q07_9', 'm3_q7_10', 'm3_q7_11', 'm3_q7_12', 'M3_Q08',\n",
      "       'hhid'],\n",
      "      dtype='object')\n",
      "Index(['M5_Q03', 'M5_Q04', 'M5_Q05', 'M5_Q06', 'M5_Q07', 'M5_Q08', 'M5_Q09',\n",
      "       'M5_Q10', 'M5_Q11', 'M5_Q12', 'M5_Q13', 'M5_Q14', 'M5_Q15', 'M5_Q16A',\n",
      "       'M5_Q16B', 'M5_Q17', 'M5_Q18', 'M5_Q19', 'M5_Q20', 'M5_Q21', 'M5_Q22',\n",
      "       'M5_Q23', 'M5_Q24A', 'M5_Q24B', 'M5_Q24C', 'M5_Q24D', 'M5_Q24E',\n",
      "       'M5_Q24F', 'M5_Q24G', 'M5_Q25', 'M5_Q26', 'M5_Q27', 'hhid'],\n",
      "      dtype='object')\n",
      "Index(['M6D_Q00', 'M6D_Q01', 'M6D_2008', 'M6D_2009', 'M6D_2010', 'M6D_2011',\n",
      "       'M6D_2012', 'I', 'hhid'],\n",
      "      dtype='object')\n",
      "Index(['M9B_Q00', 'M9B_Q01', 'M9B_Q02', 'Q02_A', 'Q02_B', 'Q02_C', 'Q02_D',\n",
      "       'Q02_E', 'M9B_Q03', 'M9B_Q04', 'M9B_Q05', 'M9B_Q06', 'M9B_Q07',\n",
      "       'M9B_Q08', 'M9B_Q09', 'M9B_Q10', 'hhid'],\n",
      "      dtype='object')\n",
      "Index(['M10_Q01', 'M10_Q02', 'M10_Q4A', 'M10_Q04', 'M10_Q05', 'M10_Q5M',\n",
      "       'M10_Q5Y', 'M10_Q06', 'M10_Q07', 'M10_Q08', 'M10_Q09', 'M10_Q10A',\n",
      "       'M10_Q10B', 'M10_Q11A', 'M10_Q11B', 'M10_Q12', 'M10_Q13A', 'M10_Q13B',\n",
      "       'M10_Q14', 'M10_Q15', 'M10_Q16', 'M10_Q17', 'M10_Q18', 'I', 'hhid'],\n",
      "      dtype='object')\n",
      "Index(['m12_q00', 'm12_q01', 'm12_q02', 'm12_q03', 'hhid'], dtype='object')\n",
      "Index(['m12b_q00', 'm12b_q01', 'm12_q02', 'm12_q03', 'hhid'], dtype='object')\n",
      "Index(['m12c_q00', 'm12c_q01', 'm12c_q02', 'm12c_q03', 'hhid'], dtype='object')\n",
      "Index(['m13a_q01', 'm13a_q1A', 'm13a_q02', 'm13a_q03', 'm13a_q04', 'm13a_q05',\n",
      "       'm13a_q05a', 'm13a_q06', 'm13a_q07', 'm13a_q08', 'm13a_q09', 'm13a_q10',\n",
      "       'm13a_q11a', 'm13a_q11b', 'm13a_q11c', 'm13a_q11d', 'm13a_q11e',\n",
      "       'm13a_q11f', 'm13a_q12a', 'm13a_q12b', 'm13a_q12c', 'm13a_q12d',\n",
      "       'm13a_q12e', 'm13a_q12f', 'm13a_q12g', 'm13a_q12h', 'm13a_q12i',\n",
      "       'm13a_q12j', 'm13a_q13a', 'm13a_q13b', 'm13a_q13c', 'm13a_q14',\n",
      "       'm13a_q15', 'm13a_q16', 'm13a_q17', 'm13a_q18', 'm13a_q18A',\n",
      "       'm13a_q19M', 'm13a_q19Y', 'm13a_q20', 'm13a_q21A', 'm13a_q21B',\n",
      "       'm13a_q22', 'm13a_q23', 'm13a_q24', 'm13a_q25', 'filter_$', 'hhid'],\n",
      "      dtype='object')\n",
      "Index(['m13b_q01', 'm13b_q02', 'm13b_q03', 'm13b_q04', 'm13b_q05', 'm13b_q06',\n",
      "       'm13b_q07', 'm13b_q08', 'm13b_q09', 'm13b_q10', 'm13b_q10a1',\n",
      "       'm13b_q10a2', 'm13b_q11', 'm13b_q11a', 'M13B_Q12', 'm13b_m12_A',\n",
      "       'm13b_m12_B', 'm13b_m12_C', 'm13b_m12_D', 'm13b_m12_E', 'm13b_m12_F',\n",
      "       'm13b_m12_G', 'm13b_m12_H', 'm13b_m12_I', 'm13b_q13', 'm13b_q14',\n",
      "       'm13b_q15', 'm13b_q16', 'm13b_q17', 'm13b_q18', 'm13b_q19', 'm13b_q20',\n",
      "       'm13b_q21', 'm13b_q22', 'm13b_q23', 'm13b_q24', 'm13b_q25', 'm13b_q26',\n",
      "       'm13b_q27', 'm13b_q28', 'm13b_q29a', 'm13b_q29b', 'm13b_q29c',\n",
      "       'm13b_q29d', 'm13b_q30', 'm13b_q31a_1', 'm13b_q31a_2', 'm13b_q31b_1',\n",
      "       'm13b_q31b_2', 'm13b_q31c_1', 'm13b_q31c_2', 'm13b_q31d_1',\n",
      "       'm13b_q31d_2', 'm13b_q31e_1', 'm13b_q31e_2', 'm13b_q32', 'm13b_q33',\n",
      "       'm13b_q34', 'm13b_q35', 'm13b_q36', 'm13b_q37', 'm13b_q38', 'm13b_q38a',\n",
      "       'm13b_q39', 'm13b_q40', 'm13b_q41', 'm13b_q42', 'Gas_for_light',\n",
      "       'hhid'],\n",
      "      dtype='object')\n",
      "Index(['m13c1_q1b', 'm13c1_q1a', 'm13c1_q1c', 'm13c1_q1ca', 'hhid'], dtype='object')\n",
      "Index(['M13C_Q03', 'M13C_Q04', 'M13C_Q05', 'M13C_Q06', 'hhid'], dtype='object')\n",
      "Index(['id_source', 'M14_Q00', 'M14_Q01', 'M14_Q02', 'M14_Q03', 'M14_Q04',\n",
      "       'M14_Q05M', 'M14_Q05Y', 'M14_Q06', 'M14_Q07', 'M14_Q08', 'M14_Q09',\n",
      "       'M14_Q10', 'M14_Q12', 'M14_Q11', 'M14_Q13M', 'M14_Q13Y', 'M14_Q14',\n",
      "       'M14_Q15', 'M14_Q16', 'M14_Q17', 'M14_Q18', 'M14_Q19', 'M14_Q20',\n",
      "       'M14_Q21M', 'M14_Q21Y', 'M14_Q22', 'M14_Q23', 'hhid'],\n",
      "      dtype='object')\n",
      "Index(['M15_Q01', 'M15_Q02', 'M15_Q03', 'hhid'], dtype='object')\n",
      "Index(['M17_Q01$01', 'M17_Q02$01', 'hhid'], dtype='object')\n",
      "Index(['M17_Q03', 'M17_Q04', 'M17_Q05', 'M17_Q06', 'M17_Q07', 'M17_Q08',\n",
      "       'M17_Q9A', 'M17_Q9B', 'hhid'],\n",
      "      dtype='object')\n",
      "Index(['M17_Q10$01', 'M17_Q11A$01', 'M17_Q11B$01', 'M17_Q11C$01',\n",
      "       'M17_Q11D$01', 'M17_Q11E$01', 'M17_Q11F$01', 'M17_Q11G$01',\n",
      "       'M17_Q11H$01', 'M17_Q11I$01', 'M17_Q11J$01', 'M17_Q11K$01', 'hhid'],\n",
      "      dtype='object')\n",
      "Index(['hhid', 'prefecture', 'urban', 'region', 'totcons', 'rcons', 'rfood',\n",
      "       'rtotnfood', 'reduexppre', 'rdurcons', 'rtotutil', 'egap0', 'egap1',\n",
      "       'egap2', 'agap0', 'agap1', 'agap2'],\n",
      "      dtype='object')\n",
      "Index(['hh_key', 'pesha10tetor', 'hhid'], dtype='object')\n"
     ]
    }
   ],
   "source": [
    "for name in house_mod_names:\n",
    "    working_df = house_mod_data.get(name)\n",
    "    if 'hhid' in working_df.columns:\n",
    "        working_df.drop(columns = [\"psu\",\"hh\"],inplace = True) # Drop psu and hh since redundant\n",
    "    else:\n",
    "        working_df['proxy_hhid'] = working_df['psu'].astype(str) + '_' + working_df['hh'].astype(str)\n",
    "        working_df['hhid'] = working_df['proxy_hhid'].map(mapping_dict)\n",
    "        working_df.drop(columns = [\"psu\",\"hh\",\"proxy_hhid\"],inplace = True) # Drop psu and hh since redundant\n",
    "    \n",
    "    print(working_df.columns)\n",
    "    "
   ]
  },
  {
   "cell_type": "code",
   "execution_count": 240,
   "metadata": {},
   "outputs": [
    {
     "data": {
      "text/plain": [
       "['Modul_1A_householdroster',\n",
       " 'Modul_1B_householdroster',\n",
       " 'Modul_3_internet',\n",
       " 'Modul_5_Non-Farm_Enterprises',\n",
       " 'Modul_6D_Shocks_to_the_household',\n",
       " 'Modul_9B_Access_to_Health_Care',\n",
       " 'Modul_10_Fertility',\n",
       " 'Modul_12A_Purchases_past30_days',\n",
       " 'Modul_12B_Purchases_past6_months',\n",
       " 'Modul_12C_Purchases_past12_months',\n",
       " 'Modul_13A_Description_of_Dwelling',\n",
       " 'Modul_13B_Utilities',\n",
       " 'Modul_13C1_Household_Durables',\n",
       " 'Modul_13C2_Household_Durables',\n",
       " 'Modul_14_Social_Protection',\n",
       " 'Modul_15_Other_Income',\n",
       " 'Modul_17_Identification_of_Agriculture_Hh_Q1-2',\n",
       " 'Modul_17_Identification_of_Agriculture_Hh_Q3-9',\n",
       " 'Modul_17_Identification_of_Agriculture_Hh_Q10-11',\n",
       " 'poverty',\n",
       " 'Weight_lsms2012_retro']"
      ]
     },
     "execution_count": 240,
     "metadata": {},
     "output_type": "execute_result"
    }
   ],
   "source": [
    "house_mod_names"
   ]
  },
  {
   "cell_type": "code",
   "execution_count": 278,
   "metadata": {},
   "outputs": [
    {
     "data": {
      "text/plain": [
       "hhid\n",
       "55603.0    7\n",
       "47602.0    7\n",
       "55606.0    6\n",
       "7005.0     6\n",
       "7004.0     6\n",
       "          ..\n",
       "42004.0    1\n",
       "40811.0    1\n",
       "34804.0    1\n",
       "34905.0    1\n",
       "3904.0     1\n",
       "Name: count, Length: 3028, dtype: int64"
      ]
     },
     "execution_count": 278,
     "metadata": {},
     "output_type": "execute_result"
    }
   ],
   "source": [
    "data = house_mod_data.get(\"Modul_17_Identification_of_Agriculture_Hh_Q3-9\")\n",
    "data['hhid'].value_counts()"
   ]
  },
  {
   "cell_type": "code",
   "execution_count": 274,
   "metadata": {},
   "outputs": [
    {
     "data": {
      "text/plain": [
       "(120078, 5)"
      ]
     },
     "execution_count": 274,
     "metadata": {},
     "output_type": "execute_result"
    }
   ],
   "source": [
    "data.shape"
   ]
  },
  {
   "cell_type": "code",
   "execution_count": 280,
   "metadata": {},
   "outputs": [
    {
     "data": {
      "text/html": [
       "<div>\n",
       "<style scoped>\n",
       "    .dataframe tbody tr th:only-of-type {\n",
       "        vertical-align: middle;\n",
       "    }\n",
       "\n",
       "    .dataframe tbody tr th {\n",
       "        vertical-align: top;\n",
       "    }\n",
       "\n",
       "    .dataframe thead th {\n",
       "        text-align: right;\n",
       "    }\n",
       "</style>\n",
       "<table border=\"1\" class=\"dataframe\">\n",
       "  <thead>\n",
       "    <tr style=\"text-align: right;\">\n",
       "      <th></th>\n",
       "      <th>M17_Q03</th>\n",
       "      <th>M17_Q04</th>\n",
       "      <th>M17_Q05</th>\n",
       "      <th>M17_Q06</th>\n",
       "      <th>M17_Q07</th>\n",
       "      <th>M17_Q08</th>\n",
       "      <th>M17_Q9A</th>\n",
       "      <th>M17_Q9B</th>\n",
       "      <th>hhid</th>\n",
       "    </tr>\n",
       "  </thead>\n",
       "  <tbody>\n",
       "    <tr>\n",
       "      <th>522</th>\n",
       "      <td>FUSHA E TRASHE</td>\n",
       "      <td>Privatized (L. 7501)</td>\n",
       "      <td>1992.0</td>\n",
       "      <td>Deed (from Law 7501 in 1991)</td>\n",
       "      <td>600.0</td>\n",
       "      <td>Pasture</td>\n",
       "      <td>NaN</td>\n",
       "      <td>NaN</td>\n",
       "      <td>55606.0</td>\n",
       "    </tr>\n",
       "    <tr>\n",
       "      <th>523</th>\n",
       "      <td>GORICA E BEBES</td>\n",
       "      <td>Privatized (L. 7501)</td>\n",
       "      <td>1992.0</td>\n",
       "      <td>Deed (from Law 7501 in 1991)</td>\n",
       "      <td>10500.0</td>\n",
       "      <td>Pasture</td>\n",
       "      <td>NaN</td>\n",
       "      <td>NaN</td>\n",
       "      <td>55606.0</td>\n",
       "    </tr>\n",
       "    <tr>\n",
       "      <th>524</th>\n",
       "      <td>KORIDHI</td>\n",
       "      <td>Privatized (L. 7501)</td>\n",
       "      <td>1992.0</td>\n",
       "      <td>Deed (from Law 7501 in 1991)</td>\n",
       "      <td>2600.0</td>\n",
       "      <td>Pasture</td>\n",
       "      <td>NaN</td>\n",
       "      <td>NaN</td>\n",
       "      <td>55606.0</td>\n",
       "    </tr>\n",
       "    <tr>\n",
       "      <th>525</th>\n",
       "      <td>OXHAKU</td>\n",
       "      <td>Privatized (L. 7501)</td>\n",
       "      <td>1992.0</td>\n",
       "      <td>Deed (from Law 7501 in 1991)</td>\n",
       "      <td>250.0</td>\n",
       "      <td>Pasture</td>\n",
       "      <td>NaN</td>\n",
       "      <td>NaN</td>\n",
       "      <td>55606.0</td>\n",
       "    </tr>\n",
       "    <tr>\n",
       "      <th>4426</th>\n",
       "      <td>VRESHTI</td>\n",
       "      <td>Privatized (L. 7501)</td>\n",
       "      <td>1992.0</td>\n",
       "      <td>Deed (from Law 7501 in 1991)</td>\n",
       "      <td>900.0</td>\n",
       "      <td>Tree crop land</td>\n",
       "      <td>Grape</td>\n",
       "      <td>No other</td>\n",
       "      <td>55606.0</td>\n",
       "    </tr>\n",
       "    <tr>\n",
       "      <th>4427</th>\n",
       "      <td>VRESHTI A</td>\n",
       "      <td>Privatized (L. 7501)</td>\n",
       "      <td>1992.0</td>\n",
       "      <td>Deed (from Law 7501 in 1991)</td>\n",
       "      <td>1600.0</td>\n",
       "      <td>Tree crop land</td>\n",
       "      <td>Grape</td>\n",
       "      <td>No other</td>\n",
       "      <td>55606.0</td>\n",
       "    </tr>\n",
       "  </tbody>\n",
       "</table>\n",
       "</div>"
      ],
      "text/plain": [
       "             M17_Q03               M17_Q04 M17_Q05  \\\n",
       "522   FUSHA E TRASHE  Privatized (L. 7501)  1992.0   \n",
       "523   GORICA E BEBES  Privatized (L. 7501)  1992.0   \n",
       "524          KORIDHI  Privatized (L. 7501)  1992.0   \n",
       "525           OXHAKU  Privatized (L. 7501)  1992.0   \n",
       "4426         VRESHTI  Privatized (L. 7501)  1992.0   \n",
       "4427       VRESHTI A  Privatized (L. 7501)  1992.0   \n",
       "\n",
       "                           M17_Q06  M17_Q07         M17_Q08 M17_Q9A   M17_Q9B  \\\n",
       "522   Deed (from Law 7501 in 1991)    600.0         Pasture     NaN       NaN   \n",
       "523   Deed (from Law 7501 in 1991)  10500.0         Pasture     NaN       NaN   \n",
       "524   Deed (from Law 7501 in 1991)   2600.0         Pasture     NaN       NaN   \n",
       "525   Deed (from Law 7501 in 1991)    250.0         Pasture     NaN       NaN   \n",
       "4426  Deed (from Law 7501 in 1991)    900.0  Tree crop land   Grape  No other   \n",
       "4427  Deed (from Law 7501 in 1991)   1600.0  Tree crop land   Grape  No other   \n",
       "\n",
       "         hhid  \n",
       "522   55606.0  \n",
       "523   55606.0  \n",
       "524   55606.0  \n",
       "525   55606.0  \n",
       "4426  55606.0  \n",
       "4427  55606.0  "
      ]
     },
     "execution_count": 280,
     "metadata": {},
     "output_type": "execute_result"
    }
   ],
   "source": [
    "rows = data.loc[data['hhid'] ==55606.0]\n",
    "rows"
   ]
  },
  {
   "cell_type": "code",
   "execution_count": 249,
   "metadata": {},
   "outputs": [],
   "source": [
    "hhid_df = house_mod_data.get(\"Modul_1A_householdroster\").merge(house_mod_data.get(\"Modul_3_internet\"), how = 'left', on = 'hhid')\n",
    "pd.DataFrame(hhid_df).to_csv(\"output/household_data.csv\")\n",
    "#print(house_mod_data.get(\"Modul_1A_householdroster\").shape)\n",
    "#print(house_mod_data.get(\"Modul_1B_householdroster\").shape)"
   ]
  },
  {
   "cell_type": "code",
   "execution_count": null,
   "metadata": {},
   "outputs": [
    {
     "ename": "MemoryError",
     "evalue": "Unable to allocate 1.90 GiB for an array with shape (48, 5301018) and data type float64",
     "output_type": "error",
     "traceback": [
      "\u001b[1;31m---------------------------------------------------------------------------\u001b[0m",
      "\u001b[1;31mMemoryError\u001b[0m                               Traceback (most recent call last)",
      "Cell \u001b[1;32mIn[228], line 11\u001b[0m\n\u001b[0;32m      9\u001b[0m     pd\u001b[38;5;241m.\u001b[39mDataFrame(hhid_df)\u001b[38;5;241m.\u001b[39mto_pickle(\u001b[38;5;124m\"\u001b[39m\u001b[38;5;124moutput/household_data.pkl\u001b[39m\u001b[38;5;124m\"\u001b[39m)\n\u001b[0;32m     10\u001b[0m \u001b[38;5;28;01melse\u001b[39;00m: \n\u001b[1;32m---> 11\u001b[0m     hhid_df \u001b[38;5;241m=\u001b[39m \u001b[43mhhid_df\u001b[49m\u001b[38;5;241;43m.\u001b[39;49m\u001b[43mmerge\u001b[49m\u001b[43m(\u001b[49m\u001b[43mdata\u001b[49m\u001b[43m,\u001b[49m\u001b[43m \u001b[49m\u001b[43mon\u001b[49m\u001b[43m \u001b[49m\u001b[38;5;241;43m=\u001b[39;49m\u001b[43m \u001b[49m\u001b[38;5;124;43m\"\u001b[39;49m\u001b[38;5;124;43mhhid\u001b[39;49m\u001b[38;5;124;43m\"\u001b[39;49m\u001b[43m)\u001b[49m\n\u001b[0;32m     12\u001b[0m     pd\u001b[38;5;241m.\u001b[39mDataFrame(hhid_df)\u001b[38;5;241m.\u001b[39mto_pickle(\u001b[38;5;124m\"\u001b[39m\u001b[38;5;124moutput/household_data.pkl\u001b[39m\u001b[38;5;124m\"\u001b[39m)\n",
      "File \u001b[1;32mc:\\Users\\PB\\Documents\\GitHub\\25SmrInt\\.conda\\Lib\\site-packages\\pandas\\core\\frame.py:10832\u001b[0m, in \u001b[0;36mDataFrame.merge\u001b[1;34m(self, right, how, on, left_on, right_on, left_index, right_index, sort, suffixes, copy, indicator, validate)\u001b[0m\n\u001b[0;32m  10813\u001b[0m \u001b[38;5;129m@Substitution\u001b[39m(\u001b[38;5;124m\"\u001b[39m\u001b[38;5;124m\"\u001b[39m)\n\u001b[0;32m  10814\u001b[0m \u001b[38;5;129m@Appender\u001b[39m(_merge_doc, indents\u001b[38;5;241m=\u001b[39m\u001b[38;5;241m2\u001b[39m)\n\u001b[0;32m  10815\u001b[0m \u001b[38;5;28;01mdef\u001b[39;00m \u001b[38;5;21mmerge\u001b[39m(\n\u001b[1;32m   (...)\u001b[0m\n\u001b[0;32m  10828\u001b[0m     validate: MergeValidate \u001b[38;5;241m|\u001b[39m \u001b[38;5;28;01mNone\u001b[39;00m \u001b[38;5;241m=\u001b[39m \u001b[38;5;28;01mNone\u001b[39;00m,\n\u001b[0;32m  10829\u001b[0m ) \u001b[38;5;241m-\u001b[39m\u001b[38;5;241m>\u001b[39m DataFrame:\n\u001b[0;32m  10830\u001b[0m     \u001b[38;5;28;01mfrom\u001b[39;00m \u001b[38;5;21;01mpandas\u001b[39;00m\u001b[38;5;21;01m.\u001b[39;00m\u001b[38;5;21;01mcore\u001b[39;00m\u001b[38;5;21;01m.\u001b[39;00m\u001b[38;5;21;01mreshape\u001b[39;00m\u001b[38;5;21;01m.\u001b[39;00m\u001b[38;5;21;01mmerge\u001b[39;00m \u001b[38;5;28;01mimport\u001b[39;00m merge\n\u001b[1;32m> 10832\u001b[0m     \u001b[38;5;28;01mreturn\u001b[39;00m \u001b[43mmerge\u001b[49m\u001b[43m(\u001b[49m\n\u001b[0;32m  10833\u001b[0m \u001b[43m        \u001b[49m\u001b[38;5;28;43mself\u001b[39;49m\u001b[43m,\u001b[49m\n\u001b[0;32m  10834\u001b[0m \u001b[43m        \u001b[49m\u001b[43mright\u001b[49m\u001b[43m,\u001b[49m\n\u001b[0;32m  10835\u001b[0m \u001b[43m        \u001b[49m\u001b[43mhow\u001b[49m\u001b[38;5;241;43m=\u001b[39;49m\u001b[43mhow\u001b[49m\u001b[43m,\u001b[49m\n\u001b[0;32m  10836\u001b[0m \u001b[43m        \u001b[49m\u001b[43mon\u001b[49m\u001b[38;5;241;43m=\u001b[39;49m\u001b[43mon\u001b[49m\u001b[43m,\u001b[49m\n\u001b[0;32m  10837\u001b[0m \u001b[43m        \u001b[49m\u001b[43mleft_on\u001b[49m\u001b[38;5;241;43m=\u001b[39;49m\u001b[43mleft_on\u001b[49m\u001b[43m,\u001b[49m\n\u001b[0;32m  10838\u001b[0m \u001b[43m        \u001b[49m\u001b[43mright_on\u001b[49m\u001b[38;5;241;43m=\u001b[39;49m\u001b[43mright_on\u001b[49m\u001b[43m,\u001b[49m\n\u001b[0;32m  10839\u001b[0m \u001b[43m        \u001b[49m\u001b[43mleft_index\u001b[49m\u001b[38;5;241;43m=\u001b[39;49m\u001b[43mleft_index\u001b[49m\u001b[43m,\u001b[49m\n\u001b[0;32m  10840\u001b[0m \u001b[43m        \u001b[49m\u001b[43mright_index\u001b[49m\u001b[38;5;241;43m=\u001b[39;49m\u001b[43mright_index\u001b[49m\u001b[43m,\u001b[49m\n\u001b[0;32m  10841\u001b[0m \u001b[43m        \u001b[49m\u001b[43msort\u001b[49m\u001b[38;5;241;43m=\u001b[39;49m\u001b[43msort\u001b[49m\u001b[43m,\u001b[49m\n\u001b[0;32m  10842\u001b[0m \u001b[43m        \u001b[49m\u001b[43msuffixes\u001b[49m\u001b[38;5;241;43m=\u001b[39;49m\u001b[43msuffixes\u001b[49m\u001b[43m,\u001b[49m\n\u001b[0;32m  10843\u001b[0m \u001b[43m        \u001b[49m\u001b[43mcopy\u001b[49m\u001b[38;5;241;43m=\u001b[39;49m\u001b[43mcopy\u001b[49m\u001b[43m,\u001b[49m\n\u001b[0;32m  10844\u001b[0m \u001b[43m        \u001b[49m\u001b[43mindicator\u001b[49m\u001b[38;5;241;43m=\u001b[39;49m\u001b[43mindicator\u001b[49m\u001b[43m,\u001b[49m\n\u001b[0;32m  10845\u001b[0m \u001b[43m        \u001b[49m\u001b[43mvalidate\u001b[49m\u001b[38;5;241;43m=\u001b[39;49m\u001b[43mvalidate\u001b[49m\u001b[43m,\u001b[49m\n\u001b[0;32m  10846\u001b[0m \u001b[43m    \u001b[49m\u001b[43m)\u001b[49m\n",
      "File \u001b[1;32mc:\\Users\\PB\\Documents\\GitHub\\25SmrInt\\.conda\\Lib\\site-packages\\pandas\\core\\reshape\\merge.py:184\u001b[0m, in \u001b[0;36mmerge\u001b[1;34m(left, right, how, on, left_on, right_on, left_index, right_index, sort, suffixes, copy, indicator, validate)\u001b[0m\n\u001b[0;32m    169\u001b[0m \u001b[38;5;28;01melse\u001b[39;00m:\n\u001b[0;32m    170\u001b[0m     op \u001b[38;5;241m=\u001b[39m _MergeOperation(\n\u001b[0;32m    171\u001b[0m         left_df,\n\u001b[0;32m    172\u001b[0m         right_df,\n\u001b[1;32m   (...)\u001b[0m\n\u001b[0;32m    182\u001b[0m         validate\u001b[38;5;241m=\u001b[39mvalidate,\n\u001b[0;32m    183\u001b[0m     )\n\u001b[1;32m--> 184\u001b[0m     \u001b[38;5;28;01mreturn\u001b[39;00m \u001b[43mop\u001b[49m\u001b[38;5;241;43m.\u001b[39;49m\u001b[43mget_result\u001b[49m\u001b[43m(\u001b[49m\u001b[43mcopy\u001b[49m\u001b[38;5;241;43m=\u001b[39;49m\u001b[43mcopy\u001b[49m\u001b[43m)\u001b[49m\n",
      "File \u001b[1;32mc:\\Users\\PB\\Documents\\GitHub\\25SmrInt\\.conda\\Lib\\site-packages\\pandas\\core\\reshape\\merge.py:888\u001b[0m, in \u001b[0;36m_MergeOperation.get_result\u001b[1;34m(self, copy)\u001b[0m\n\u001b[0;32m    884\u001b[0m     \u001b[38;5;28mself\u001b[39m\u001b[38;5;241m.\u001b[39mleft, \u001b[38;5;28mself\u001b[39m\u001b[38;5;241m.\u001b[39mright \u001b[38;5;241m=\u001b[39m \u001b[38;5;28mself\u001b[39m\u001b[38;5;241m.\u001b[39m_indicator_pre_merge(\u001b[38;5;28mself\u001b[39m\u001b[38;5;241m.\u001b[39mleft, \u001b[38;5;28mself\u001b[39m\u001b[38;5;241m.\u001b[39mright)\n\u001b[0;32m    886\u001b[0m join_index, left_indexer, right_indexer \u001b[38;5;241m=\u001b[39m \u001b[38;5;28mself\u001b[39m\u001b[38;5;241m.\u001b[39m_get_join_info()\n\u001b[1;32m--> 888\u001b[0m result \u001b[38;5;241m=\u001b[39m \u001b[38;5;28;43mself\u001b[39;49m\u001b[38;5;241;43m.\u001b[39;49m\u001b[43m_reindex_and_concat\u001b[49m\u001b[43m(\u001b[49m\n\u001b[0;32m    889\u001b[0m \u001b[43m    \u001b[49m\u001b[43mjoin_index\u001b[49m\u001b[43m,\u001b[49m\u001b[43m \u001b[49m\u001b[43mleft_indexer\u001b[49m\u001b[43m,\u001b[49m\u001b[43m \u001b[49m\u001b[43mright_indexer\u001b[49m\u001b[43m,\u001b[49m\u001b[43m \u001b[49m\u001b[43mcopy\u001b[49m\u001b[38;5;241;43m=\u001b[39;49m\u001b[43mcopy\u001b[49m\n\u001b[0;32m    890\u001b[0m \u001b[43m\u001b[49m\u001b[43m)\u001b[49m\n\u001b[0;32m    891\u001b[0m result \u001b[38;5;241m=\u001b[39m result\u001b[38;5;241m.\u001b[39m__finalize__(\u001b[38;5;28mself\u001b[39m, method\u001b[38;5;241m=\u001b[39m\u001b[38;5;28mself\u001b[39m\u001b[38;5;241m.\u001b[39m_merge_type)\n\u001b[0;32m    893\u001b[0m \u001b[38;5;28;01mif\u001b[39;00m \u001b[38;5;28mself\u001b[39m\u001b[38;5;241m.\u001b[39mindicator:\n",
      "File \u001b[1;32mc:\\Users\\PB\\Documents\\GitHub\\25SmrInt\\.conda\\Lib\\site-packages\\pandas\\core\\reshape\\merge.py:879\u001b[0m, in \u001b[0;36m_MergeOperation._reindex_and_concat\u001b[1;34m(self, join_index, left_indexer, right_indexer, copy)\u001b[0m\n\u001b[0;32m    877\u001b[0m left\u001b[38;5;241m.\u001b[39mcolumns \u001b[38;5;241m=\u001b[39m llabels\n\u001b[0;32m    878\u001b[0m right\u001b[38;5;241m.\u001b[39mcolumns \u001b[38;5;241m=\u001b[39m rlabels\n\u001b[1;32m--> 879\u001b[0m result \u001b[38;5;241m=\u001b[39m \u001b[43mconcat\u001b[49m\u001b[43m(\u001b[49m\u001b[43m[\u001b[49m\u001b[43mleft\u001b[49m\u001b[43m,\u001b[49m\u001b[43m \u001b[49m\u001b[43mright\u001b[49m\u001b[43m]\u001b[49m\u001b[43m,\u001b[49m\u001b[43m \u001b[49m\u001b[43maxis\u001b[49m\u001b[38;5;241;43m=\u001b[39;49m\u001b[38;5;241;43m1\u001b[39;49m\u001b[43m,\u001b[49m\u001b[43m \u001b[49m\u001b[43mcopy\u001b[49m\u001b[38;5;241;43m=\u001b[39;49m\u001b[43mcopy\u001b[49m\u001b[43m)\u001b[49m\n\u001b[0;32m    880\u001b[0m \u001b[38;5;28;01mreturn\u001b[39;00m result\n",
      "File \u001b[1;32mc:\\Users\\PB\\Documents\\GitHub\\25SmrInt\\.conda\\Lib\\site-packages\\pandas\\core\\reshape\\concat.py:395\u001b[0m, in \u001b[0;36mconcat\u001b[1;34m(objs, axis, join, ignore_index, keys, levels, names, verify_integrity, sort, copy)\u001b[0m\n\u001b[0;32m    380\u001b[0m     copy \u001b[38;5;241m=\u001b[39m \u001b[38;5;28;01mFalse\u001b[39;00m\n\u001b[0;32m    382\u001b[0m op \u001b[38;5;241m=\u001b[39m _Concatenator(\n\u001b[0;32m    383\u001b[0m     objs,\n\u001b[0;32m    384\u001b[0m     axis\u001b[38;5;241m=\u001b[39maxis,\n\u001b[1;32m   (...)\u001b[0m\n\u001b[0;32m    392\u001b[0m     sort\u001b[38;5;241m=\u001b[39msort,\n\u001b[0;32m    393\u001b[0m )\n\u001b[1;32m--> 395\u001b[0m \u001b[38;5;28;01mreturn\u001b[39;00m \u001b[43mop\u001b[49m\u001b[38;5;241;43m.\u001b[39;49m\u001b[43mget_result\u001b[49m\u001b[43m(\u001b[49m\u001b[43m)\u001b[49m\n",
      "File \u001b[1;32mc:\\Users\\PB\\Documents\\GitHub\\25SmrInt\\.conda\\Lib\\site-packages\\pandas\\core\\reshape\\concat.py:684\u001b[0m, in \u001b[0;36m_Concatenator.get_result\u001b[1;34m(self)\u001b[0m\n\u001b[0;32m    680\u001b[0m             indexers[ax] \u001b[38;5;241m=\u001b[39m obj_labels\u001b[38;5;241m.\u001b[39mget_indexer(new_labels)\n\u001b[0;32m    682\u001b[0m     mgrs_indexers\u001b[38;5;241m.\u001b[39mappend((obj\u001b[38;5;241m.\u001b[39m_mgr, indexers))\n\u001b[1;32m--> 684\u001b[0m new_data \u001b[38;5;241m=\u001b[39m \u001b[43mconcatenate_managers\u001b[49m\u001b[43m(\u001b[49m\n\u001b[0;32m    685\u001b[0m \u001b[43m    \u001b[49m\u001b[43mmgrs_indexers\u001b[49m\u001b[43m,\u001b[49m\u001b[43m \u001b[49m\u001b[38;5;28;43mself\u001b[39;49m\u001b[38;5;241;43m.\u001b[39;49m\u001b[43mnew_axes\u001b[49m\u001b[43m,\u001b[49m\u001b[43m \u001b[49m\u001b[43mconcat_axis\u001b[49m\u001b[38;5;241;43m=\u001b[39;49m\u001b[38;5;28;43mself\u001b[39;49m\u001b[38;5;241;43m.\u001b[39;49m\u001b[43mbm_axis\u001b[49m\u001b[43m,\u001b[49m\u001b[43m \u001b[49m\u001b[43mcopy\u001b[49m\u001b[38;5;241;43m=\u001b[39;49m\u001b[38;5;28;43mself\u001b[39;49m\u001b[38;5;241;43m.\u001b[39;49m\u001b[43mcopy\u001b[49m\n\u001b[0;32m    686\u001b[0m \u001b[43m\u001b[49m\u001b[43m)\u001b[49m\n\u001b[0;32m    687\u001b[0m \u001b[38;5;28;01mif\u001b[39;00m \u001b[38;5;129;01mnot\u001b[39;00m \u001b[38;5;28mself\u001b[39m\u001b[38;5;241m.\u001b[39mcopy \u001b[38;5;129;01mand\u001b[39;00m \u001b[38;5;129;01mnot\u001b[39;00m using_copy_on_write():\n\u001b[0;32m    688\u001b[0m     new_data\u001b[38;5;241m.\u001b[39m_consolidate_inplace()\n",
      "File \u001b[1;32mc:\\Users\\PB\\Documents\\GitHub\\25SmrInt\\.conda\\Lib\\site-packages\\pandas\\core\\internals\\concat.py:131\u001b[0m, in \u001b[0;36mconcatenate_managers\u001b[1;34m(mgrs_indexers, axes, concat_axis, copy)\u001b[0m\n\u001b[0;32m    124\u001b[0m \u001b[38;5;66;03m# Assertions disabled for performance\u001b[39;00m\n\u001b[0;32m    125\u001b[0m \u001b[38;5;66;03m# for tup in mgrs_indexers:\u001b[39;00m\n\u001b[0;32m    126\u001b[0m \u001b[38;5;66;03m#    # caller is responsible for ensuring this\u001b[39;00m\n\u001b[0;32m    127\u001b[0m \u001b[38;5;66;03m#    indexers = tup[1]\u001b[39;00m\n\u001b[0;32m    128\u001b[0m \u001b[38;5;66;03m#    assert concat_axis not in indexers\u001b[39;00m\n\u001b[0;32m    130\u001b[0m \u001b[38;5;28;01mif\u001b[39;00m concat_axis \u001b[38;5;241m==\u001b[39m \u001b[38;5;241m0\u001b[39m:\n\u001b[1;32m--> 131\u001b[0m     mgrs \u001b[38;5;241m=\u001b[39m \u001b[43m_maybe_reindex_columns_na_proxy\u001b[49m\u001b[43m(\u001b[49m\u001b[43maxes\u001b[49m\u001b[43m,\u001b[49m\u001b[43m \u001b[49m\u001b[43mmgrs_indexers\u001b[49m\u001b[43m,\u001b[49m\u001b[43m \u001b[49m\u001b[43mneeds_copy\u001b[49m\u001b[43m)\u001b[49m\n\u001b[0;32m    132\u001b[0m     \u001b[38;5;28;01mreturn\u001b[39;00m mgrs[\u001b[38;5;241m0\u001b[39m]\u001b[38;5;241m.\u001b[39mconcat_horizontal(mgrs, axes)\n\u001b[0;32m    134\u001b[0m \u001b[38;5;28;01mif\u001b[39;00m \u001b[38;5;28mlen\u001b[39m(mgrs_indexers) \u001b[38;5;241m>\u001b[39m \u001b[38;5;241m0\u001b[39m \u001b[38;5;129;01mand\u001b[39;00m mgrs_indexers[\u001b[38;5;241m0\u001b[39m][\u001b[38;5;241m0\u001b[39m]\u001b[38;5;241m.\u001b[39mnblocks \u001b[38;5;241m>\u001b[39m \u001b[38;5;241m0\u001b[39m:\n",
      "File \u001b[1;32mc:\\Users\\PB\\Documents\\GitHub\\25SmrInt\\.conda\\Lib\\site-packages\\pandas\\core\\internals\\concat.py:230\u001b[0m, in \u001b[0;36m_maybe_reindex_columns_na_proxy\u001b[1;34m(axes, mgrs_indexers, needs_copy)\u001b[0m\n\u001b[0;32m    220\u001b[0m         mgr \u001b[38;5;241m=\u001b[39m mgr\u001b[38;5;241m.\u001b[39mreindex_indexer(\n\u001b[0;32m    221\u001b[0m             axes[i],\n\u001b[0;32m    222\u001b[0m             indexers[i],\n\u001b[1;32m   (...)\u001b[0m\n\u001b[0;32m    227\u001b[0m             use_na_proxy\u001b[38;5;241m=\u001b[39m\u001b[38;5;28;01mTrue\u001b[39;00m,  \u001b[38;5;66;03m# only relevant for i==0\u001b[39;00m\n\u001b[0;32m    228\u001b[0m         )\n\u001b[0;32m    229\u001b[0m     \u001b[38;5;28;01mif\u001b[39;00m needs_copy \u001b[38;5;129;01mand\u001b[39;00m \u001b[38;5;129;01mnot\u001b[39;00m indexers:\n\u001b[1;32m--> 230\u001b[0m         mgr \u001b[38;5;241m=\u001b[39m \u001b[43mmgr\u001b[49m\u001b[38;5;241;43m.\u001b[39;49m\u001b[43mcopy\u001b[49m\u001b[43m(\u001b[49m\u001b[43m)\u001b[49m\n\u001b[0;32m    232\u001b[0m     new_mgrs\u001b[38;5;241m.\u001b[39mappend(mgr)\n\u001b[0;32m    233\u001b[0m \u001b[38;5;28;01mreturn\u001b[39;00m new_mgrs\n",
      "File \u001b[1;32mc:\\Users\\PB\\Documents\\GitHub\\25SmrInt\\.conda\\Lib\\site-packages\\pandas\\core\\internals\\managers.py:604\u001b[0m, in \u001b[0;36mBaseBlockManager.copy\u001b[1;34m(self, deep)\u001b[0m\n\u001b[0;32m    601\u001b[0m         res\u001b[38;5;241m.\u001b[39m_blklocs \u001b[38;5;241m=\u001b[39m \u001b[38;5;28mself\u001b[39m\u001b[38;5;241m.\u001b[39m_blklocs\u001b[38;5;241m.\u001b[39mcopy()\n\u001b[0;32m    603\u001b[0m \u001b[38;5;28;01mif\u001b[39;00m deep:\n\u001b[1;32m--> 604\u001b[0m     \u001b[43mres\u001b[49m\u001b[38;5;241;43m.\u001b[39;49m\u001b[43m_consolidate_inplace\u001b[49m\u001b[43m(\u001b[49m\u001b[43m)\u001b[49m\n\u001b[0;32m    605\u001b[0m \u001b[38;5;28;01mreturn\u001b[39;00m res\n",
      "File \u001b[1;32mc:\\Users\\PB\\Documents\\GitHub\\25SmrInt\\.conda\\Lib\\site-packages\\pandas\\core\\internals\\managers.py:1788\u001b[0m, in \u001b[0;36mBlockManager._consolidate_inplace\u001b[1;34m(self)\u001b[0m\n\u001b[0;32m   1782\u001b[0m \u001b[38;5;28;01mdef\u001b[39;00m \u001b[38;5;21m_consolidate_inplace\u001b[39m(\u001b[38;5;28mself\u001b[39m) \u001b[38;5;241m-\u001b[39m\u001b[38;5;241m>\u001b[39m \u001b[38;5;28;01mNone\u001b[39;00m:\n\u001b[0;32m   1783\u001b[0m     \u001b[38;5;66;03m# In general, _consolidate_inplace should only be called via\u001b[39;00m\n\u001b[0;32m   1784\u001b[0m     \u001b[38;5;66;03m#  DataFrame._consolidate_inplace, otherwise we will fail to invalidate\u001b[39;00m\n\u001b[0;32m   1785\u001b[0m     \u001b[38;5;66;03m#  the DataFrame's _item_cache. The exception is for newly-created\u001b[39;00m\n\u001b[0;32m   1786\u001b[0m     \u001b[38;5;66;03m#  BlockManager objects not yet attached to a DataFrame.\u001b[39;00m\n\u001b[0;32m   1787\u001b[0m     \u001b[38;5;28;01mif\u001b[39;00m \u001b[38;5;129;01mnot\u001b[39;00m \u001b[38;5;28mself\u001b[39m\u001b[38;5;241m.\u001b[39mis_consolidated():\n\u001b[1;32m-> 1788\u001b[0m         \u001b[38;5;28mself\u001b[39m\u001b[38;5;241m.\u001b[39mblocks \u001b[38;5;241m=\u001b[39m \u001b[43m_consolidate\u001b[49m\u001b[43m(\u001b[49m\u001b[38;5;28;43mself\u001b[39;49m\u001b[38;5;241;43m.\u001b[39;49m\u001b[43mblocks\u001b[49m\u001b[43m)\u001b[49m\n\u001b[0;32m   1789\u001b[0m         \u001b[38;5;28mself\u001b[39m\u001b[38;5;241m.\u001b[39m_is_consolidated \u001b[38;5;241m=\u001b[39m \u001b[38;5;28;01mTrue\u001b[39;00m\n\u001b[0;32m   1790\u001b[0m         \u001b[38;5;28mself\u001b[39m\u001b[38;5;241m.\u001b[39m_known_consolidated \u001b[38;5;241m=\u001b[39m \u001b[38;5;28;01mTrue\u001b[39;00m\n",
      "File \u001b[1;32mc:\\Users\\PB\\Documents\\GitHub\\25SmrInt\\.conda\\Lib\\site-packages\\pandas\\core\\internals\\managers.py:2269\u001b[0m, in \u001b[0;36m_consolidate\u001b[1;34m(blocks)\u001b[0m\n\u001b[0;32m   2267\u001b[0m new_blocks: \u001b[38;5;28mlist\u001b[39m[Block] \u001b[38;5;241m=\u001b[39m []\n\u001b[0;32m   2268\u001b[0m \u001b[38;5;28;01mfor\u001b[39;00m (_can_consolidate, dtype), group_blocks \u001b[38;5;129;01min\u001b[39;00m grouper:\n\u001b[1;32m-> 2269\u001b[0m     merged_blocks, _ \u001b[38;5;241m=\u001b[39m \u001b[43m_merge_blocks\u001b[49m\u001b[43m(\u001b[49m\n\u001b[0;32m   2270\u001b[0m \u001b[43m        \u001b[49m\u001b[38;5;28;43mlist\u001b[39;49m\u001b[43m(\u001b[49m\u001b[43mgroup_blocks\u001b[49m\u001b[43m)\u001b[49m\u001b[43m,\u001b[49m\u001b[43m \u001b[49m\u001b[43mdtype\u001b[49m\u001b[38;5;241;43m=\u001b[39;49m\u001b[43mdtype\u001b[49m\u001b[43m,\u001b[49m\u001b[43m \u001b[49m\u001b[43mcan_consolidate\u001b[49m\u001b[38;5;241;43m=\u001b[39;49m\u001b[43m_can_consolidate\u001b[49m\n\u001b[0;32m   2271\u001b[0m \u001b[43m    \u001b[49m\u001b[43m)\u001b[49m\n\u001b[0;32m   2272\u001b[0m     new_blocks \u001b[38;5;241m=\u001b[39m extend_blocks(merged_blocks, new_blocks)\n\u001b[0;32m   2273\u001b[0m \u001b[38;5;28;01mreturn\u001b[39;00m \u001b[38;5;28mtuple\u001b[39m(new_blocks)\n",
      "File \u001b[1;32mc:\\Users\\PB\\Documents\\GitHub\\25SmrInt\\.conda\\Lib\\site-packages\\pandas\\core\\internals\\managers.py:2301\u001b[0m, in \u001b[0;36m_merge_blocks\u001b[1;34m(blocks, dtype, can_consolidate)\u001b[0m\n\u001b[0;32m   2298\u001b[0m     new_values \u001b[38;5;241m=\u001b[39m bvals2[\u001b[38;5;241m0\u001b[39m]\u001b[38;5;241m.\u001b[39m_concat_same_type(bvals2, axis\u001b[38;5;241m=\u001b[39m\u001b[38;5;241m0\u001b[39m)\n\u001b[0;32m   2300\u001b[0m argsort \u001b[38;5;241m=\u001b[39m np\u001b[38;5;241m.\u001b[39margsort(new_mgr_locs)\n\u001b[1;32m-> 2301\u001b[0m new_values \u001b[38;5;241m=\u001b[39m \u001b[43mnew_values\u001b[49m\u001b[43m[\u001b[49m\u001b[43margsort\u001b[49m\u001b[43m]\u001b[49m\n\u001b[0;32m   2302\u001b[0m new_mgr_locs \u001b[38;5;241m=\u001b[39m new_mgr_locs[argsort]\n\u001b[0;32m   2304\u001b[0m bp \u001b[38;5;241m=\u001b[39m BlockPlacement(new_mgr_locs)\n",
      "\u001b[1;31mMemoryError\u001b[0m: Unable to allocate 1.90 GiB for an array with shape (48, 5301018) and data type float64"
     ]
    }
   ],
   "source": [
    "hhid_df = pd.DataFrame() # Initialise empty dataframe to store merged data\n",
    "pd.DataFrame(hhid_df).to_csv(\"output/household_data.csv\")\n",
    "\n",
    "for name in house_mod_names:\n",
    "    data = house_mod_data.get(name)\n",
    "    hhid_df = pd.read_pickle(\"output/household_data.pkl\")\n",
    "    if hhid_df.empty:\n",
    "        hhid_df = data\n",
    "        pd.DataFrame(hhid_df).to_pickle(\"output/household_data.pkl\")\n",
    "    else: \n",
    "        hhid_df = hhid_df.merge(data, on = \"hhid\")\n",
    "        pd.DataFrame(hhid_df).to_pickle(\"output/household_data.pkl\")\n",
    "        "
   ]
  }
 ],
 "metadata": {
  "kernelspec": {
   "display_name": "Python 3",
   "language": "python",
   "name": "python3"
  },
  "language_info": {
   "codemirror_mode": {
    "name": "ipython",
    "version": 3
   },
   "file_extension": ".py",
   "mimetype": "text/x-python",
   "name": "python",
   "nbconvert_exporter": "python",
   "pygments_lexer": "ipython3",
   "version": "3.11.11"
  }
 },
 "nbformat": 4,
 "nbformat_minor": 2
}
